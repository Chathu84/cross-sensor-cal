{
 "cells": [
  {
   "cell_type": "code",
   "execution_count": 3,
   "id": "875ad8c3-96b4-44c1-a190-66b6ead1c8d3",
   "metadata": {},
   "outputs": [],
   "source": [
    "import hytools as ht\n",
    "import matplotlib.pyplot as plt\n",
    "import numpy as np\n",
    "\n"
   ]
  },
  {
   "cell_type": "code",
   "execution_count": 5,
   "id": "12f28372-b31e-4138-aa49-86db28623958",
   "metadata": {},
   "outputs": [],
   "source": [
    "envi = ht.HyTools()\n",
    "envi.read_file(\"output_file\",'envi')"
   ]
  },
  {
   "cell_type": "code",
   "execution_count": 7,
   "id": "4f8acefb-7638-4ade-93e1-fcbea5488b54",
   "metadata": {},
   "outputs": [
    {
     "data": {
      "text/plain": [
       "memmap([230.89001118, 265.29973664, 227.50122958, 453.15689901,\n",
       "        289.9373611 , 150.14576218])"
      ]
     },
     "execution_count": 7,
     "metadata": {},
     "output_type": "execute_result"
    }
   ],
   "source": [
    "envi.get_pixels(500,500)"
   ]
  },
  {
   "cell_type": "code",
   "execution_count": 8,
   "id": "0d519f52-66c5-4634-8aeb-56973543d97c",
   "metadata": {},
   "outputs": [
    {
     "name": "stdout",
     "output_type": "stream",
     "text": [
      "Input wavelength outside wavelength range!\n"
     ]
    },
    {
     "ename": "ValueError",
     "evalue": "not enough values to unpack (expected 2, got 0)",
     "output_type": "error",
     "traceback": [
      "\u001b[0;31m---------------------------------------------------------------------------\u001b[0m",
      "\u001b[0;31mValueError\u001b[0m                                Traceback (most recent call last)",
      "Cell \u001b[0;32mIn[8], line 1\u001b[0m\n\u001b[0;32m----> 1\u001b[0m \u001b[43mplt\u001b[49m\u001b[38;5;241;43m.\u001b[39;49m\u001b[43mmatshow\u001b[49m\u001b[43m(\u001b[49m\u001b[43m \u001b[49m\u001b[43menvi\u001b[49m\u001b[38;5;241;43m.\u001b[39;49m\u001b[43mget_wave\u001b[49m\u001b[43m(\u001b[49m\u001b[38;5;241;43m450\u001b[39;49m\u001b[43m)\u001b[49m\u001b[43m)\u001b[49m\n",
      "File \u001b[0;32m/opt/conda/envs/macrosystems/lib/python3.10/site-packages/matplotlib/pyplot.py:2441\u001b[0m, in \u001b[0;36mmatshow\u001b[0;34m(A, fignum, **kwargs)\u001b[0m\n\u001b[1;32m   2437\u001b[0m     ax \u001b[38;5;241m=\u001b[39m gca()\n\u001b[1;32m   2438\u001b[0m \u001b[38;5;28;01melse\u001b[39;00m:\n\u001b[1;32m   2439\u001b[0m     \u001b[38;5;66;03m# Extract actual aspect ratio of array and make appropriately sized\u001b[39;00m\n\u001b[1;32m   2440\u001b[0m     \u001b[38;5;66;03m# figure.\u001b[39;00m\n\u001b[0;32m-> 2441\u001b[0m     fig \u001b[38;5;241m=\u001b[39m figure(fignum, figsize\u001b[38;5;241m=\u001b[39m\u001b[43mfigaspect\u001b[49m\u001b[43m(\u001b[49m\u001b[43mA\u001b[49m\u001b[43m)\u001b[49m)\n\u001b[1;32m   2442\u001b[0m     ax \u001b[38;5;241m=\u001b[39m fig\u001b[38;5;241m.\u001b[39madd_axes((\u001b[38;5;241m0.15\u001b[39m, \u001b[38;5;241m0.09\u001b[39m, \u001b[38;5;241m0.775\u001b[39m, \u001b[38;5;241m0.775\u001b[39m))\n\u001b[1;32m   2443\u001b[0m im \u001b[38;5;241m=\u001b[39m ax\u001b[38;5;241m.\u001b[39mmatshow(A, \u001b[38;5;241m*\u001b[39m\u001b[38;5;241m*\u001b[39mkwargs)\n",
      "File \u001b[0;32m/opt/conda/envs/macrosystems/lib/python3.10/site-packages/matplotlib/figure.py:3606\u001b[0m, in \u001b[0;36mfigaspect\u001b[0;34m(arg)\u001b[0m\n\u001b[1;32m   3604\u001b[0m \u001b[38;5;66;03m# Extract the aspect ratio of the array\u001b[39;00m\n\u001b[1;32m   3605\u001b[0m \u001b[38;5;28;01mif\u001b[39;00m isarray:\n\u001b[0;32m-> 3606\u001b[0m     nr, nc \u001b[38;5;241m=\u001b[39m arg\u001b[38;5;241m.\u001b[39mshape[:\u001b[38;5;241m2\u001b[39m]\n\u001b[1;32m   3607\u001b[0m     arr_ratio \u001b[38;5;241m=\u001b[39m nr \u001b[38;5;241m/\u001b[39m nc\n\u001b[1;32m   3608\u001b[0m \u001b[38;5;28;01melse\u001b[39;00m:\n",
      "\u001b[0;31mValueError\u001b[0m: not enough values to unpack (expected 2, got 0)"
     ]
    }
   ],
   "source": [
    "#plt.plot(envi.wavelengths,original[0])\n",
    "original = envi.get_pixels([500],[500])\n",
    "plt.plot(outwaves,resample[0])\n",
    "plt.ylim(0,.6)"
   ]
  }
 ],
 "metadata": {
  "kernelspec": {
   "display_name": "macrosystems",
   "language": "python",
   "name": "macrosystems"
  },
  "language_info": {
   "codemirror_mode": {
    "name": "ipython",
    "version": 3
   },
   "file_extension": ".py",
   "mimetype": "text/x-python",
   "name": "python",
   "nbconvert_exporter": "python",
   "pygments_lexer": "ipython3",
   "version": "3.10.13"
  }
 },
 "nbformat": 4,
 "nbformat_minor": 5
}
