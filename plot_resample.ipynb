{
 "cells": [
  {
   "cell_type": "code",
   "execution_count": 2,
   "id": "875ad8c3-96b4-44c1-a190-66b6ead1c8d3",
   "metadata": {},
   "outputs": [],
   "source": [
    "import hytools as ht\n",
    "import matplotlib.pyplot as plt\n",
    "import numpy as np\n",
    "\n"
   ]
  },
  {
   "cell_type": "code",
   "execution_count": 3,
   "id": "12f28372-b31e-4138-aa49-86db28623958",
   "metadata": {},
   "outputs": [],
   "source": [
    "envi = ht.HyTools()\n",
    "envi.read_file(\"export/resampled_for_landsat\",'envi')"
   ]
  },
  {
   "cell_type": "code",
   "execution_count": 4,
   "id": "4f8acefb-7638-4ade-93e1-fcbea5488b54",
   "metadata": {},
   "outputs": [
    {
     "data": {
      "text/plain": [
       "memmap([230.50578122, 264.98265027, 227.47424306, 453.65101374,\n",
       "        291.14132639, 151.13075887])"
      ]
     },
     "execution_count": 4,
     "metadata": {},
     "output_type": "execute_result"
    }
   ],
   "source": [
    "envi.get_pixels(500,500)"
   ]
  },
  {
   "cell_type": "code",
   "execution_count": 44,
   "id": "18f29e16-bfab-4efc-904f-456727a5e717",
   "metadata": {},
   "outputs": [
    {
     "data": {
      "text/plain": [
       "6479"
      ]
     },
     "execution_count": 44,
     "metadata": {},
     "output_type": "execute_result"
    }
   ],
   "source": [
    "envi.lines"
   ]
  },
  {
   "cell_type": "code",
   "execution_count": 56,
   "id": "cd38d023-c1d2-4515-a310-509185d1366b",
   "metadata": {},
   "outputs": [
    {
     "data": {
      "text/plain": [
       "1119"
      ]
     },
     "execution_count": 56,
     "metadata": {},
     "output_type": "execute_result"
    }
   ],
   "source": [
    "envi.columns\n"
   ]
  },
  {
   "cell_type": "code",
   "execution_count": 40,
   "id": "1a2328fb-9a2b-4bb3-822a-0a3ae397a78b",
   "metadata": {},
   "outputs": [
    {
     "data": {
      "text/plain": [
       "array([ 480.,  560.,  655.,  865., 1610., 2200.])"
      ]
     },
     "execution_count": 40,
     "metadata": {},
     "output_type": "execute_result"
    }
   ],
   "source": [
    "envi.wavelengths"
   ]
  },
  {
   "cell_type": "code",
   "execution_count": 46,
   "id": "382d2a8f-9079-477d-8f23-a1d9d889dd6b",
   "metadata": {},
   "outputs": [
    {
     "data": {
      "text/plain": [
       "[1, 1001, 2001, 3001, 4001, 5001, 6001]"
      ]
     },
     "execution_count": 46,
     "metadata": {},
     "output_type": "execute_result"
    }
   ],
   "source": [
    "import numpy as np\n",
    "np.arange(1, envi.lines, 1000).tolist()"
   ]
  },
  {
   "cell_type": "code",
   "execution_count": 69,
   "id": "1456ff8c-102a-4bed-92fc-a4888e7923d4",
   "metadata": {},
   "outputs": [
    {
     "data": {
      "text/plain": [
       "<matplotlib.image.AxesImage at 0x7fd575ba3280>"
      ]
     },
     "execution_count": 69,
     "metadata": {},
     "output_type": "execute_result"
    },
    {
     "data": {
      "image/png": "[encoded data removed]",
      "text/plain": [
       "<Figure size 400x1600 with 1 Axes>"
      ]
     },
     "metadata": {},
     "output_type": "display_data"
    }
   ],
   "source": [
    "plt.matshow(original)"
   ]
  },
  {
   "cell_type": "code",
   "execution_count": 66,
   "id": "0d519f52-66c5-4634-8aeb-56973543d97c",
   "metadata": {},
   "outputs": [],
   "source": [
    "#plt.plot(envi.wavelengths,original[0])\n",
    "rowrange = np.arange(1, 6000, 6).tolist()\n",
    "colrange = np.arange(0, 1000, 1).tolist()\n",
    "\n",
    "\n"
   ]
  },
  {
   "cell_type": "code",
   "execution_count": 71,
   "id": "7837e7c1-2006-4133-9402-31df4185b388",
   "metadata": {},
   "outputs": [
    {
     "ename": "SyntaxError",
     "evalue": "unterminated string literal (detected at line 6) (461858840.py, line 6)",
     "output_type": "error",
     "traceback": [
      "\u001b[0;36m  Cell \u001b[0;32mIn[71], line 6\u001b[0;36m\u001b[0m\n\u001b[0;31m    plt.plot(envi.wavelengths, original[i, :], label=f'Pixel {i+1}', col=\"blue)\u001b[0m\n\u001b[0m                                                                         ^\u001b[0m\n\u001b[0;31mSyntaxError\u001b[0m\u001b[0;31m:\u001b[0m unterminated string literal (detected at line 6)\n"
     ]
    }
   ],
   "source": [
    "original = envi.get_pixels(rowrange, colrange)\n",
    "#original = envi.get_pixels([500], [500])\n",
    "#chunker = envi.get_chunk(1,envi.columns, 1,envi.lines)\n",
    "\n",
    "for i in range(original.shape[0]): # Loop through each row/pixel\n",
    "    plt.plot(envi.wavelengths, original[i, :], label=f'Pixel {i+1}')\n",
    "\n",
    "plt.xlabel('Wavelength')\n",
    "plt.ylabel('Reflectance')\n",
    "plt.title('Spectral Signatures')\n",
    "plt.ylim(0,10000)\n",
    "plt.show()"
   ]
  }
 ],
 "metadata": {
  "kernelspec": {
   "display_name": "macrosystems",
   "language": "python",
   "name": "macrosystems"
  },
  "language_info": {
   "codemirror_mode": {
    "name": "ipython",
    "version": 3
   },
   "file_extension": ".py",
   "mimetype": "text/x-python",
   "name": "python",
   "nbconvert_exporter": "python",
   "pygments_lexer": "ipython3",
   "version": "3.10.13"
  }
 },
 "nbformat": 4,
 "nbformat_minor": 5
}
